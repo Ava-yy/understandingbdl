{
 "cells": [
  {
   "cell_type": "markdown",
   "metadata": {},
   "source": [
    "#  Variational Inference"
   ]
  },
  {
   "cell_type": "code",
   "execution_count": 6,
   "metadata": {},
   "outputs": [
    {
     "name": "stdout",
     "output_type": "stream",
     "text": [
      "The autoreload extension is already loaded. To reload it, use:\n",
      "  %reload_ext autoreload\n"
     ]
    }
   ],
   "source": [
    "import sys\n",
    "import numpy as np\n",
    "import matplotlib.pyplot as plt\n",
    "%matplotlib inline\n",
    "\n",
    "import torch\n",
    "import torch.utils.data\n",
    "from torch import nn\n",
    "from torch.nn import functional as F\n",
    "\n",
    "import seaborn as sns\n",
    "\n",
    "from swag import data, models, utils, losses\n",
    "from swag.posteriors import SWAG\n",
    "\n",
    "import tqdm\n",
    "\n",
    "import os\n",
    "import math\n",
    "\n",
    "torch.backends.cudnn.benchmark = True\n",
    "torch.manual_seed(1)\n",
    "torch.cuda.manual_seed(1)\n",
    "np.random.seed(1)\n",
    "\n",
    "import hamiltorch\n",
    "\n",
    "%load_ext autoreload\n",
    "%autoreload 2"
   ]
  },
  {
   "cell_type": "code",
   "execution_count": 85,
   "metadata": {},
   "outputs": [],
   "source": [
    "def featurize(x):\n",
    "    return torch.cat([x[:, None], x[:, None]**2], dim=1)\n",
    "\n",
    "class RegNet(nn.Sequential):\n",
    "    def __init__(self, dimensions, input_dim=1, output_dim=1, apply_var=True):\n",
    "        super(RegNet, self).__init__()\n",
    "        self.dimensions = [input_dim, *dimensions, output_dim]        \n",
    "        for i in range(len(self.dimensions) - 1):\n",
    "            self.add_module('linear%d' % i, torch.nn.Linear(self.dimensions[i], self.dimensions[i + 1]))\n",
    "            if i < len(self.dimensions) - 2:\n",
    "                self.add_module('relu%d' % i, torch.nn.ReLU())\n",
    "\n",
    "        if output_dim == 2:\n",
    "            self.add_module('var_split', SplitDim(correction=apply_var))\n",
    "\n",
    "#     def forward(self, x):\n",
    "#         return super().forward(x)"
   ]
  },
  {
   "cell_type": "code",
   "execution_count": 86,
   "metadata": {},
   "outputs": [
    {
     "data": {
      "text/plain": [
       "[<matplotlib.lines.Line2D at 0x7fbd0ad7cfd0>]"
      ]
     },
     "execution_count": 86,
     "metadata": {},
     "output_type": "execute_result"
    },
    {
     "data": {
      "image/png": "[encoded data removed]",
      "text/plain": [
       "<Figure size 432x288 with 1 Axes>"
      ]
     },
     "metadata": {
      "needs_background": "light"
     },
     "output_type": "display_data"
    }
   ],
   "source": [
    "arr = np.load(\"data.npz\") \n",
    "x = torch.from_numpy(arr['x'])\n",
    "f = featurize(x)\n",
    "y = torch.from_numpy(arr['y']) * 10\n",
    "\n",
    "x_ = torch.from_numpy(arr['x_'])\n",
    "f_ = featurize(x_)\n",
    "y_ = torch.from_numpy(arr['y_']) * 10\n",
    "\n",
    "plt.plot(x.data.numpy(), y.data.numpy(), \"ro\")\n",
    "plt.plot(x_.data.numpy(), y_.data.numpy(), \"-b\")"
   ]
  },
  {
   "cell_type": "code",
   "execution_count": 51,
   "metadata": {},
   "outputs": [],
   "source": [
    "n_steps = 3000\n",
    "\n",
    "net = RegNet(dimensions=[10, 10, 10], input_dim=2)\n",
    "optimizer = torch.optim.SGD(net.parameters(), lr=5e-6)\n",
    "criterion = torch.nn.functional.mse_loss\n",
    "noise_var = 0.0005\n",
    "prior_var = 100\n",
    "\n",
    "for epoch in range(n_steps):\n",
    "    optimizer.zero_grad()\n",
    "    preds = net(f)\n",
    "    loss = criterion(preds, y) / (2 * noise_var)\n",
    "    loss.backward()\n",
    "    optimizer.step()"
   ]
  },
  {
   "cell_type": "code",
   "execution_count": 109,
   "metadata": {},
   "outputs": [
    {
     "data": {
      "text/plain": [
       "[<matplotlib.lines.Line2D at 0x7fbceeed7c90>]"
      ]
     },
     "execution_count": 109,
     "metadata": {},
     "output_type": "execute_result"
    },
    {
     "data": {
      "image/png": "[encoded data removed]",
      "text/plain": [
       "<Figure size 432x288 with 1 Axes>"
      ]
     },
     "metadata": {
      "needs_background": "light"
     },
     "output_type": "display_data"
    }
   ],
   "source": [
    "plt.plot(x.data.numpy(), y.data.numpy(), \"ro\")\n",
    "plt.plot(x_.data.numpy(), net(f_).data.numpy(), \"-b\")"
   ]
  },
  {
   "cell_type": "code",
   "execution_count": 110,
   "metadata": {},
   "outputs": [],
   "source": [
    "from swag.posteriors.ffg_vi_model import VIFFGModel\n",
    "from swag.posteriors.vi_model import ELBO"
   ]
  },
  {
   "cell_type": "code",
   "execution_count": 111,
   "metadata": {},
   "outputs": [],
   "source": [
    "init_sigma = .01\n",
    "prior_var = 100\n",
    "noise_var = 0.0005\n",
    "criterion = losses.GaussianLikelihood(noise_var=noise_var)\n",
    "\n",
    "vi_model = VIFFGModel(\n",
    "    init_inv_softplus_sigma=math.log(math.exp(init_sigma) - 1.0),\n",
    "    prior_log_sigma=math.log(np.sqrt(prior_var)),\n",
    "    base=RegNet,\n",
    "    dimensions=[10, 10, 10], input_dim=2\n",
    ")\n",
    "\n",
    "elbo = ELBO(criterion, len(y))\n",
    "optimizer = torch.optim.Adam(vi_model.parameters(), lr=1e-6)\n",
    "\n",
    "vi_model.mu.data = torch.cat([p.data.reshape(-1) for p in net.parameters()])"
   ]
  },
  {
   "cell_type": "code",
   "execution_count": 112,
   "metadata": {},
   "outputs": [
    {
     "name": "stdout",
     "output_type": "stream",
     "text": [
      "0 tensor(263.2856, grad_fn=<AddBackward0>)\n",
      "100 tensor(246.7050, grad_fn=<AddBackward0>)\n",
      "200 tensor(233.9647, grad_fn=<AddBackward0>)\n",
      "300 tensor(283.3163, grad_fn=<AddBackward0>)\n",
      "400 tensor(230.0835, grad_fn=<AddBackward0>)\n",
      "500 tensor(230.9272, grad_fn=<AddBackward0>)\n",
      "600 tensor(227.8602, grad_fn=<AddBackward0>)\n",
      "700 tensor(233.2167, grad_fn=<AddBackward0>)\n",
      "800 tensor(234.0340, grad_fn=<AddBackward0>)\n",
      "900 tensor(235.4178, grad_fn=<AddBackward0>)\n",
      "1000 tensor(262.3733, grad_fn=<AddBackward0>)\n",
      "1100 tensor(235.5795, grad_fn=<AddBackward0>)\n",
      "1200 tensor(236.4392, grad_fn=<AddBackward0>)\n",
      "1300 tensor(273.7194, grad_fn=<AddBackward0>)\n",
      "1400 tensor(305.7097, grad_fn=<AddBackward0>)\n",
      "1500 tensor(240.2477, grad_fn=<AddBackward0>)\n",
      "1600 tensor(253.6443, grad_fn=<AddBackward0>)\n",
      "1700 tensor(263.3564, grad_fn=<AddBackward0>)\n",
      "1800 tensor(239.5156, grad_fn=<AddBackward0>)\n",
      "1900 tensor(234.6884, grad_fn=<AddBackward0>)\n",
      "2000 tensor(300.3623, grad_fn=<AddBackward0>)\n",
      "2100 tensor(248.0540, grad_fn=<AddBackward0>)\n",
      "2200 tensor(278.4770, grad_fn=<AddBackward0>)\n",
      "2300 tensor(231.6956, grad_fn=<AddBackward0>)\n",
      "2400 tensor(255.3054, grad_fn=<AddBackward0>)\n",
      "2500 tensor(235.3830, grad_fn=<AddBackward0>)\n",
      "2600 tensor(280.1711, grad_fn=<AddBackward0>)\n",
      "2700 tensor(250.0381, grad_fn=<AddBackward0>)\n",
      "2800 tensor(284.3923, grad_fn=<AddBackward0>)\n",
      "2900 tensor(242.1906, grad_fn=<AddBackward0>)\n",
      "3000 tensor(294.9906, grad_fn=<AddBackward0>)\n",
      "3100 tensor(241.4184, grad_fn=<AddBackward0>)\n",
      "3200 tensor(252.2780, grad_fn=<AddBackward0>)\n",
      "3300 tensor(250.4774, grad_fn=<AddBackward0>)\n",
      "3400 tensor(238.2356, grad_fn=<AddBackward0>)\n",
      "3500 tensor(282.3735, grad_fn=<AddBackward0>)\n",
      "3600 tensor(270.3519, grad_fn=<AddBackward0>)\n",
      "3700 tensor(246.3112, grad_fn=<AddBackward0>)\n",
      "3800 tensor(300.0522, grad_fn=<AddBackward0>)\n",
      "3900 tensor(231.6030, grad_fn=<AddBackward0>)\n",
      "4000 tensor(304.0490, grad_fn=<AddBackward0>)\n",
      "4100 tensor(237.9833, grad_fn=<AddBackward0>)\n",
      "4200 tensor(239.3564, grad_fn=<AddBackward0>)\n",
      "4300 tensor(274.0934, grad_fn=<AddBackward0>)\n",
      "4400 tensor(276.4989, grad_fn=<AddBackward0>)\n",
      "4500 tensor(250.7343, grad_fn=<AddBackward0>)\n",
      "4600 tensor(287.1213, grad_fn=<AddBackward0>)\n",
      "4700 tensor(233.9584, grad_fn=<AddBackward0>)\n",
      "4800 tensor(272.8073, grad_fn=<AddBackward0>)\n",
      "4900 tensor(250.9424, grad_fn=<AddBackward0>)\n",
      "5000 tensor(274.9344, grad_fn=<AddBackward0>)\n",
      "5100 tensor(233.2765, grad_fn=<AddBackward0>)\n",
      "5200 tensor(325.1034, grad_fn=<AddBackward0>)\n",
      "5300 tensor(275.2826, grad_fn=<AddBackward0>)\n",
      "5400 tensor(228.0100, grad_fn=<AddBackward0>)\n",
      "5500 tensor(242.4404, grad_fn=<AddBackward0>)\n",
      "5600 tensor(240.3985, grad_fn=<AddBackward0>)\n",
      "5700 tensor(236.6899, grad_fn=<AddBackward0>)\n",
      "5800 tensor(255.3155, grad_fn=<AddBackward0>)\n",
      "5900 tensor(237.9981, grad_fn=<AddBackward0>)\n",
      "6000 tensor(290.1969, grad_fn=<AddBackward0>)\n",
      "6100 tensor(234.5439, grad_fn=<AddBackward0>)\n",
      "6200 tensor(230.6493, grad_fn=<AddBackward0>)\n",
      "6300 tensor(296.7185, grad_fn=<AddBackward0>)\n",
      "6400 tensor(251.7043, grad_fn=<AddBackward0>)\n",
      "6500 tensor(235.2150, grad_fn=<AddBackward0>)\n",
      "6600 tensor(246.0012, grad_fn=<AddBackward0>)\n",
      "6700 tensor(245.2428, grad_fn=<AddBackward0>)\n",
      "6800 tensor(313.8044, grad_fn=<AddBackward0>)\n",
      "6900 tensor(256.0544, grad_fn=<AddBackward0>)\n",
      "7000 tensor(260.7643, grad_fn=<AddBackward0>)\n",
      "7100 tensor(383.2936, grad_fn=<AddBackward0>)\n",
      "7200 tensor(237.6385, grad_fn=<AddBackward0>)\n",
      "7300 tensor(226.9409, grad_fn=<AddBackward0>)\n",
      "7400 tensor(235.5924, grad_fn=<AddBackward0>)\n",
      "7500 tensor(257.4045, grad_fn=<AddBackward0>)\n",
      "7600 tensor(253.8358, grad_fn=<AddBackward0>)\n",
      "7700 tensor(272.3237, grad_fn=<AddBackward0>)\n",
      "7800 tensor(237.5028, grad_fn=<AddBackward0>)\n",
      "7900 tensor(294.0803, grad_fn=<AddBackward0>)\n",
      "8000 tensor(270.0817, grad_fn=<AddBackward0>)\n",
      "8100 tensor(289.0949, grad_fn=<AddBackward0>)\n",
      "8200 tensor(241.1746, grad_fn=<AddBackward0>)\n",
      "8300 tensor(227.1842, grad_fn=<AddBackward0>)\n",
      "8400 tensor(313.6406, grad_fn=<AddBackward0>)\n",
      "8500 tensor(329.8138, grad_fn=<AddBackward0>)\n",
      "8600 tensor(258.4602, grad_fn=<AddBackward0>)\n",
      "8700 tensor(234.9744, grad_fn=<AddBackward0>)\n",
      "8800 tensor(275.8043, grad_fn=<AddBackward0>)\n",
      "8900 tensor(257.9002, grad_fn=<AddBackward0>)\n",
      "9000 tensor(256.0947, grad_fn=<AddBackward0>)\n",
      "9100 tensor(264.6646, grad_fn=<AddBackward0>)\n",
      "9200 tensor(243.6844, grad_fn=<AddBackward0>)\n",
      "9300 tensor(227.9523, grad_fn=<AddBackward0>)\n",
      "9400 tensor(332.9117, grad_fn=<AddBackward0>)\n",
      "9500 tensor(275.6416, grad_fn=<AddBackward0>)\n",
      "9600 tensor(247.4072, grad_fn=<AddBackward0>)\n",
      "9700 tensor(263.2431, grad_fn=<AddBackward0>)\n",
      "9800 tensor(241.5271, grad_fn=<AddBackward0>)\n",
      "9900 tensor(239.6415, grad_fn=<AddBackward0>)\n"
     ]
    }
   ],
   "source": [
    "#     train_res = utils.train_epoch(loader, vi_model, elbo, optimizer, regression=True, cuda=False)\n",
    "#     sigma = torch.nn.functional.softplus(vi_model.inv_softplus_sigma.detach().cpu())\n",
    "\n",
    "n_steps = 10000\n",
    "\n",
    "for epoch in range(n_steps):\n",
    "    optimizer.zero_grad()\n",
    "    loss = elbo(vi_model, f, y)[0]\n",
    "    loss.backward()\n",
    "    optimizer.step()\n",
    "    if epoch % 100 == 0:\n",
    "        print(epoch, loss)\n",
    "    if epoch == 5000:\n",
    "        utils.adjust_learning_rate(optimizer, 1e-8)\n",
    "\n"
   ]
  },
  {
   "cell_type": "code",
   "execution_count": 113,
   "metadata": {},
   "outputs": [],
   "source": [
    "all_preds = np.vstack([vi_model(f_)[None, :].data.numpy() for _ in range(100)])"
   ]
  },
  {
   "cell_type": "code",
   "execution_count": 114,
   "metadata": {},
   "outputs": [
    {
     "data": {
      "text/plain": [
       "(-1, 4)"
      ]
     },
     "execution_count": 114,
     "metadata": {},
     "output_type": "execute_result"
    },
    {
     "data": {
      "image/png": "[encoded data removed]",
      "text/plain": [
       "<Figure size 432x288 with 1 Axes>"
      ]
     },
     "metadata": {
      "needs_background": "light"
     },
     "output_type": "display_data"
    }
   ],
   "source": [
    "# all_preds = np.vstack([np.load(\"preds_de_{}.npy\".format(i)) for i in range(n_ens)])\n",
    "# all_preds = np.load(\"deep_ensembles_preds.npy\")[:]\n",
    "pred_mean = all_preds.mean(axis=0)\n",
    "pred_std = all_preds.std(axis=0)\n",
    "pred_upper = pred_mean + pred_std\n",
    "pred_lower = pred_mean - pred_std\n",
    "\n",
    "plt.plot(x.data.numpy(), y.data.numpy(), \"ro\")\n",
    "# plt.plot(x_.data.numpy(), y_.data.numpy(), \"--k\")\n",
    "plt.plot(x_.data.numpy(), all_preds[:, :, 0].T, \"-b\", alpha=0.05);\n",
    "plt.plot(x_.data.numpy(), pred_mean, \"-b\", lw=5)\n",
    "plt.plot(x_.data.numpy(), pred_lower, \"-b\", lw=2)\n",
    "plt.plot(x_.data.numpy(), pred_upper, \"-b\", lw=2)\n",
    "plt.ylim(-1, 4)"
   ]
  },
  {
   "cell_type": "code",
   "execution_count": 115,
   "metadata": {},
   "outputs": [],
   "source": [
    "np.save(\"vi_preds\", all_preds)"
   ]
  }
 ],
 "metadata": {
  "kernelspec": {
   "display_name": "py37",
   "language": "python",
   "name": "py37"
  },
  "language_info": {
   "codemirror_mode": {
    "name": "ipython",
    "version": 3
   },
   "file_extension": ".py",
   "mimetype": "text/x-python",
   "name": "python",
   "nbconvert_exporter": "python",
   "pygments_lexer": "ipython3",
   "version": "3.7.6"
  }
 },
 "nbformat": 4,
 "nbformat_minor": 2
}
